{
 "cells": [
  {
   "cell_type": "markdown",
   "id": "a7a6083d-9c6e-4522-860a-5c5ae628e98c",
   "metadata": {},
   "source": [
    "Q1. Create one variable containing following type of data:\n",
    "(i) string\n",
    "(ii) list\n",
    "(iii) float\n",
    "(iv) tuple"
   ]
  },
  {
   "cell_type": "code",
   "execution_count": null,
   "id": "2d516d5c-d931-4546-8d2d-38115ecabd1a",
   "metadata": {},
   "outputs": [],
   "source": [
    "a =[\"Hari\",[6,9],1.2,(2,7)]"
   ]
  },
  {
   "cell_type": "markdown",
   "id": "d929b8d0-74a5-4264-b76c-52b6e4699650",
   "metadata": {},
   "source": [
    "Q2. Given are some following variables containing data:\n",
    "(i) var1 = ‘ ‘\n",
    "(ii) var2 = ‘[ DS , ML , Python]’\n",
    "(iii) var3 = [ ‘DS’ , ’ML’ , ‘Python’ ]\n",
    "(iv) var4 = 1.\n",
    "What will be the data type of the above given variable."
   ]
  },
  {
   "cell_type": "code",
   "execution_count": null,
   "id": "c373261f-956c-427f-8c6e-466abd5432c4",
   "metadata": {},
   "outputs": [],
   "source": [
    "(i) String\n",
    "(ii) String\n",
    "(iii) List\n",
    "(iv) Float"
   ]
  },
  {
   "cell_type": "markdown",
   "id": "4c44cd53-3cc2-4752-969d-d6cf736cf114",
   "metadata": {},
   "source": [
    "Q3. Explain the use of the following operators using an example:\n",
    "(i) /\n",
    "(ii) %\n",
    "(iii) //\n",
    "(iv) **"
   ]
  },
  {
   "cell_type": "code",
   "execution_count": null,
   "id": "c2272024-83b9-4632-912e-cef96dcdd760",
   "metadata": {},
   "outputs": [],
   "source": [
    "(i) / Division operator eg:- 4/2 = 2.0 it performs floating-point division.\n",
    "(ii) % Modulus operator eg:- 5%2 = 1 is used to obtain the remainder of a division operation.\n",
    "(iii) // Floor operator eg:- 4//2 = 2 it returns the largest integer less than or equal to the quotient of the division.\n",
    "(iv) **  Exponentiation eg:- 2**2 = 4 is used for exponentiation or raising a number to a power."
   ]
  },
  {
   "cell_type": "markdown",
   "id": "c61897a7-a628-40af-a2b8-54bca99a3c6f",
   "metadata": {},
   "source": [
    "Q4. Create a list of length 10 of your choice containing multiple types of data. Using for loop print the\n",
    "element and its data type."
   ]
  },
  {
   "cell_type": "code",
   "execution_count": 1,
   "id": "2bd25b34-e5c6-43db-8eea-984f949f0223",
   "metadata": {},
   "outputs": [
    {
     "name": "stdout",
     "output_type": "stream",
     "text": [
      "2 <class 'int'>\n",
      "3.4 <class 'float'>\n",
      "Ram <class 'str'>\n",
      "5 <class 'int'>\n",
      "True <class 'bool'>\n",
      "5.5 <class 'float'>\n",
      "[6, 7] <class 'list'>\n",
      "5 <class 'int'>\n",
      "sita <class 'str'>\n",
      "5 <class 'int'>\n"
     ]
    }
   ],
   "source": [
    "l = [2,3.4,\"Ram\",5,True,5.5,[6,7],5,\"sita\",5]\n",
    "for i in l:\n",
    "    print(i,type(i))"
   ]
  },
  {
   "cell_type": "markdown",
   "id": "251a3d08-4519-4d65-81e5-519ded8e8c12",
   "metadata": {},
   "source": [
    "Q5. Using a while loop, verify if the number A is purely divisible by number B and if so then how many\n",
    "times it can be divisible."
   ]
  },
  {
   "cell_type": "code",
   "execution_count": 3,
   "id": "6a5a6aa5-832f-4cd0-a046-2baa08629cd0",
   "metadata": {},
   "outputs": [
    {
     "name": "stdout",
     "output_type": "stream",
     "text": [
      "Total divisible:  3\n"
     ]
    }
   ],
   "source": [
    "A = 8\n",
    "B = 2\n",
    "count = 0\n",
    "while A%B==0:\n",
    "        A = A/B\n",
    "        count+=1\n",
    "print(\"Total divisible: \", count)"
   ]
  },
  {
   "cell_type": "markdown",
   "id": "09f335b4-ee09-4cff-b5b9-0af763867d70",
   "metadata": {},
   "source": [
    "Q6. Create a list containing 25 int type data. Using for loop and if-else condition print if the element is\n",
    "divisible by 3 or not."
   ]
  },
  {
   "cell_type": "code",
   "execution_count": 16,
   "id": "6ce1ab06-8c0c-4eaa-9ede-a3478cd48027",
   "metadata": {},
   "outputs": [
    {
     "name": "stdout",
     "output_type": "stream",
     "text": [
      "2 not divisible by 3\n",
      "3 Divisible by 3\n",
      "4 not divisible by 3\n",
      "5 not divisible by 3\n",
      "6 Divisible by 3\n",
      "7 not divisible by 3\n",
      "8 not divisible by 3\n",
      "9 Divisible by 3\n",
      "12 Divisible by 3\n",
      "34 not divisible by 3\n",
      "56 not divisible by 3\n",
      "23 not divisible by 3\n",
      "45 Divisible by 3\n",
      "67 not divisible by 3\n",
      "89 not divisible by 3\n",
      "122 not divisible by 3\n",
      "32 not divisible by 3\n",
      "28 not divisible by 3\n",
      "98 not divisible by 3\n",
      "21 Divisible by 3\n",
      "98 not divisible by 3\n",
      "80 not divisible by 3\n",
      "66 Divisible by 3\n",
      "90 Divisible by 3\n",
      "75 Divisible by 3\n"
     ]
    }
   ],
   "source": [
    "n =[2,3,4,5,6,7,8,9,12,34,56,23,45,67,89,122,32,28,98,21,98,80,66,90,75]\n",
    "for i in n:\n",
    "    if i%3==0:\n",
    "        print(i,\"Divisible by 3\")\n",
    "    else:\n",
    "        print(i,\"not divisible by 3\")\n"
   ]
  },
  {
   "cell_type": "markdown",
   "id": "a8b9c35c-1ae8-4e34-81de-ddb2c70fe5a7",
   "metadata": {},
   "source": [
    "Q7. What do you understand about mutable and immutable data types? Give examples for both showing\n",
    "this property."
   ]
  },
  {
   "cell_type": "code",
   "execution_count": null,
   "id": "e39e1dcf-8f85-4308-a00d-5ad4dfec8b69",
   "metadata": {},
   "outputs": [],
   "source": [
    "mutable: Mutable data types can be modified after they are created. Changes made to a mutable object affect the original object itself. eg : list\n",
    "immutable: Immutable data types do not allow modifications to their values. eg: string"
   ]
  },
  {
   "cell_type": "markdown",
   "id": "f1cccf71-5e28-4f7c-a060-9b30c1dfd47d",
   "metadata": {},
   "source": [
    "mutable(list)"
   ]
  },
  {
   "cell_type": "code",
   "execution_count": 17,
   "id": "534e8f9f-2786-4773-b777-8e3937c4832a",
   "metadata": {},
   "outputs": [],
   "source": [
    "p = [2,3,4]"
   ]
  },
  {
   "cell_type": "code",
   "execution_count": 18,
   "id": "40e4b831-e2c7-42ed-87a2-910fa40f5c8d",
   "metadata": {},
   "outputs": [
    {
     "data": {
      "text/plain": [
       "[2, 3, 4]"
      ]
     },
     "execution_count": 18,
     "metadata": {},
     "output_type": "execute_result"
    }
   ],
   "source": [
    "p"
   ]
  },
  {
   "cell_type": "code",
   "execution_count": 19,
   "id": "ec7098aa-5a05-4482-b09a-06eeee420d94",
   "metadata": {},
   "outputs": [],
   "source": [
    "p[1]=9"
   ]
  },
  {
   "cell_type": "code",
   "execution_count": 20,
   "id": "de584805-234d-4e2b-9c57-4284eeab5672",
   "metadata": {},
   "outputs": [
    {
     "data": {
      "text/plain": [
       "[2, 9, 4]"
      ]
     },
     "execution_count": 20,
     "metadata": {},
     "output_type": "execute_result"
    }
   ],
   "source": [
    "p"
   ]
  },
  {
   "cell_type": "markdown",
   "id": "eb9ec684-06cb-4e1d-9836-fdb8f144dc70",
   "metadata": {},
   "source": [
    "Immutable(String)"
   ]
  },
  {
   "cell_type": "code",
   "execution_count": 21,
   "id": "1802c5c6-ce83-4e9a-96d7-e4bf3a907b58",
   "metadata": {},
   "outputs": [],
   "source": [
    "s = \"deep\""
   ]
  },
  {
   "cell_type": "code",
   "execution_count": 22,
   "id": "846a798e-3bb7-422e-9353-ca478fab4003",
   "metadata": {},
   "outputs": [
    {
     "ename": "NameError",
     "evalue": "name 'a' is not defined",
     "output_type": "error",
     "traceback": [
      "\u001b[0;31m---------------------------------------------------------------------------\u001b[0m",
      "\u001b[0;31mNameError\u001b[0m                                 Traceback (most recent call last)",
      "Cell \u001b[0;32mIn[22], line 1\u001b[0m\n\u001b[0;32m----> 1\u001b[0m s[\u001b[38;5;241m2\u001b[39m]\u001b[38;5;241m=\u001b[39m\u001b[43ma\u001b[49m\n",
      "\u001b[0;31mNameError\u001b[0m: name 'a' is not defined"
     ]
    }
   ],
   "source": [
    "s[2]=a"
   ]
  }
 ],
 "metadata": {
  "kernelspec": {
   "display_name": "Python 3 (ipykernel)",
   "language": "python",
   "name": "python3"
  },
  "language_info": {
   "codemirror_mode": {
    "name": "ipython",
    "version": 3
   },
   "file_extension": ".py",
   "mimetype": "text/x-python",
   "name": "python",
   "nbconvert_exporter": "python",
   "pygments_lexer": "ipython3",
   "version": "3.10.8"
  }
 },
 "nbformat": 4,
 "nbformat_minor": 5
}
