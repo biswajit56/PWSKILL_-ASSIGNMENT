{
 "cells": [
  {
   "cell_type": "markdown",
   "id": "7c0ebd60-4ee4-40a2-90ee-d4baa583e431",
   "metadata": {},
   "source": [
    "Q1. How do you comment code in Python? What are the different types of comments?"
   ]
  },
  {
   "cell_type": "markdown",
   "id": "491b5596-429c-4204-808d-9fbd4a7854d8",
   "metadata": {},
   "source": [
    "There are two types of comments in python we can use:\n",
    "\n",
    "Single-line comment:\n",
    "\n",
    "#is use for single-line comment\n",
    "\n",
    "Multi-line comment:\n",
    "\n",
    "\"\"\"This is the example \n",
    "   of multiline comment\"\"\"\n",
    "   \n",
    "   OR\n",
    "''' This is the other way \n",
    "    of using multiline comment'''"
   ]
  },
  {
   "cell_type": "markdown",
   "id": "e95af783-a53c-43ed-a8a0-62cd4b236bdb",
   "metadata": {},
   "source": [
    "Q2. What are variables in Python? How do you declare and assign values to variables?"
   ]
  },
  {
   "cell_type": "markdown",
   "id": "ce350c04-8b13-4674-82b3-5423aeaa0abe",
   "metadata": {},
   "source": [
    "Variables name given to the address of the memory location where data is stored.\n",
    "\n",
    "-A variable name must start with a letter or an underscore.\n",
    "\n",
    "name = \"Biswajit\"\n",
    "age = 24\n",
    "is_student = True\n"
   ]
  },
  {
   "cell_type": "markdown",
   "id": "309800da-46f4-48d3-956a-0a30992ae7ce",
   "metadata": {},
   "source": [
    "Q3. How do you convert one data type to another in Python?"
   ]
  },
  {
   "cell_type": "markdown",
   "id": "4462ac5b-9255-4a00-8f68-cefd455d69a5",
   "metadata": {},
   "source": [
    "converting one data type to another in python is call casting\n",
    "\n",
    "casting\n",
    "int(): Converts a value to an integer data type. For example, int(3.14) converts the float value 3.14 to an integer 3.\n",
    "\n",
    "str():Converts a value to a string data type. For example, str(100) converts the integer value 100 to a string \"100\".\n",
    "\n",
    "float():  Converts a value to a floating-point data type. For example, float(5) converts the integer value 5 to a float 5.0.\n",
    "\n",
    "suppose      \n",
    "s = 3\n",
    "float(s)\n",
    "output= 3.0"
   ]
  },
  {
   "cell_type": "markdown",
   "id": "3c4b258f-e013-42cb-b308-8df456a36a42",
   "metadata": {},
   "source": [
    "Q4. How do you write and execute a Python script from the command line?"
   ]
  },
  {
   "cell_type": "markdown",
   "id": "de0e1304-95e4-4653-b75b-6494723ae67a",
   "metadata": {},
   "source": [
    "step-1: open Integrated Development Environment (IDE) to write your Python script. For example, you can use a text editor like Notepad, Sublime Text, Visual Studio.\n",
    "\n",
    "step-2: Write your Python code in the text editor and save the file with a .py extension\n",
    " step-3: Run(ctrl + enter)"
   ]
  },
  {
   "cell_type": "markdown",
   "id": "29b047be-a31b-4c68-b501-6b2a9e266166",
   "metadata": {},
   "source": [
    "Q5. Given a list my_list = [1, 2, 3, 4, 5], write the code to slice the list and obtain the sub-list [2, 3]."
   ]
  },
  {
   "cell_type": "code",
   "execution_count": 5,
   "id": "cf3fd442-2d4e-4b0a-98b6-2f9db855ffa9",
   "metadata": {},
   "outputs": [
    {
     "data": {
      "text/plain": [
       "[2, 3]"
      ]
     },
     "execution_count": 5,
     "metadata": {},
     "output_type": "execute_result"
    }
   ],
   "source": [
    "my_list = [1, 2, 3, 4, 5]\n",
    "my_list[1:3]"
   ]
  },
  {
   "cell_type": "markdown",
   "id": "08cfc559-9e6e-4e74-9b9e-1f0e596dadff",
   "metadata": {},
   "source": [
    "Q6. What is a complex number in mathematics, and how is it represented in Python?"
   ]
  },
  {
   "cell_type": "markdown",
   "id": "ccb55a03-543a-4b7d-8939-b6eccf4f5c4f",
   "metadata": {},
   "source": [
    "a complex number is a number of the form \"a + bi,\" where \"a\" and \"b\" are real numbers and \"i\" is the imaginary.\n",
    "\n",
    "In Python, complex numbers are represented as \"a + bj\" or \"complex(a, b)\" using the \"j\" where j is the imaginary part."
   ]
  },
  {
   "cell_type": "markdown",
   "id": "88ee0b00-165d-40c2-95e0-c5e35cb2c525",
   "metadata": {},
   "source": [
    "Q7. What is the correct way to declare a variable named age and assign the value 25 to it?"
   ]
  },
  {
   "cell_type": "code",
   "execution_count": null,
   "id": "b12134a6-6be5-40e0-ade3-f5cdd3c0d1df",
   "metadata": {},
   "outputs": [],
   "source": [
    "age = 25"
   ]
  },
  {
   "cell_type": "markdown",
   "id": "5a2922bc-44ee-431d-8100-b7f228ca72e7",
   "metadata": {},
   "source": [
    "Q8. Declare a variable named price and assign the value 9.99 to it. What data type does this variable\n",
    "belong to?"
   ]
  },
  {
   "cell_type": "code",
   "execution_count": null,
   "id": "413a276d-6e14-427b-8cef-577db7035523",
   "metadata": {},
   "outputs": [],
   "source": [
    "price = 9.99 #price store float data type\n"
   ]
  },
  {
   "cell_type": "markdown",
   "id": "bbb5998c-51fd-47aa-bdaf-61a7e29b4e0a",
   "metadata": {},
   "source": [
    "Q9. Create a variable named name and assign your full name to it as a string. How would you print the\n",
    "value of this variable?"
   ]
  },
  {
   "cell_type": "code",
   "execution_count": 6,
   "id": "2f168bc3-0dd2-45d1-b178-334ea36391a9",
   "metadata": {},
   "outputs": [
    {
     "data": {
      "text/plain": [
       "'Biswajit  Nath'"
      ]
     },
     "execution_count": 6,
     "metadata": {},
     "output_type": "execute_result"
    }
   ],
   "source": [
    "name = \"Biswajit  Nath\"\n",
    "name"
   ]
  },
  {
   "cell_type": "markdown",
   "id": "080caff8-c83d-4b1a-ba90-4a9f94a51007",
   "metadata": {},
   "source": [
    "Q10. Given the string \"Hello, World!\", extract the substring \"World\"."
   ]
  },
  {
   "cell_type": "code",
   "execution_count": 8,
   "id": "aeeccacd-923a-4e3a-a1df-29c9e1912564",
   "metadata": {},
   "outputs": [
    {
     "data": {
      "text/plain": [
       "'World'"
      ]
     },
     "execution_count": 8,
     "metadata": {},
     "output_type": "execute_result"
    }
   ],
   "source": [
    "a = \"Hello, World!\"\n",
    "a[7:12]"
   ]
  },
  {
   "cell_type": "markdown",
   "id": "734bc952-a883-431b-897f-dd4e0b74d711",
   "metadata": {},
   "source": [
    "Q11. Create a variable named \"is_student\" and assign it a boolean value indicating whether you are\n",
    "currently a student or not."
   ]
  },
  {
   "cell_type": "code",
   "execution_count": null,
   "id": "1b12c34f-19f6-41c2-9bca-893aa8cfd6ad",
   "metadata": {},
   "outputs": [],
   "source": [
    "is_student = True"
   ]
  }
 ],
 "metadata": {
  "kernelspec": {
   "display_name": "Python 3 (ipykernel)",
   "language": "python",
   "name": "python3"
  },
  "language_info": {
   "codemirror_mode": {
    "name": "ipython",
    "version": 3
   },
   "file_extension": ".py",
   "mimetype": "text/x-python",
   "name": "python",
   "nbconvert_exporter": "python",
   "pygments_lexer": "ipython3",
   "version": "3.10.8"
  }
 },
 "nbformat": 4,
 "nbformat_minor": 5
}
